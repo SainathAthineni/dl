{
 "cells": [
  {
   "cell_type": "markdown",
   "id": "b128f4f8",
   "metadata": {},
   "source": [
    "https://github.com/SainathAthineni/dl"
   ]
  },
  {
   "cell_type": "markdown",
   "id": "b80e03c9",
   "metadata": {},
   "source": [
    "https://watch.wave.video/4TYzDT18TWGu6A4w"
   ]
  },
  {
   "cell_type": "markdown",
   "id": "0a3f3718",
   "metadata": {},
   "source": [
    "### Table: Contributions of Team Members\n",
    "\n",
    "| **Contribution**                | **Prabin Awal**    | **Harkirat Singh** |\n",
    "|---------------------------------|--------------------|--------------------|\n",
    "| **Image Display**               |                    | X                  |\n",
    "| **Data Splitting**              |                    | X                  |\n",
    "| **Model Building**              | X                  |                    |\n",
    "| **Model Tuning**                | X                  |                    |\n",
    "| **Model Saving**                | X                  |                    |\n"
   ]
  },
  {
   "cell_type": "code",
   "execution_count": 30,
   "id": "ccc3efd9",
   "metadata": {},
   "outputs": [],
   "source": [
    "import os\n",
    "import numpy as np\n",
    "import tensorflow as tf\n",
    "from tensorflow.keras.applications import VGG16\n",
    "from tensorflow.keras.models import Model\n",
    "from tensorflow.keras.layers import Dense, Flatten, Dropout\n",
    "from tensorflow.keras.preprocessing.image import ImageDataGenerator, load_img, img_to_array\n",
    "from tensorflow.keras.optimizers import Adam\n",
    "from flask import Flask, request, jsonify\n",
    "import streamlit as st\n",
    "import requests\n",
    "from PIL import Image\n",
    "import keras_tuner as kt\n",
    "import matplotlib.pyplot as plt\n",
    "import matplotlib.image as mpimg\n",
    "import random\n",
    "from sklearn.model_selection import train_test_split\n",
    "import shutil"
   ]
  },
  {
   "cell_type": "code",
   "execution_count": 2,
   "id": "86ebfdbc",
   "metadata": {},
   "outputs": [],
   "source": [
    "data_dir = \"/Users/prabinawal/Downloads/FaceExpressions/Dataset\"\n",
    "categories = os.listdir(data_dir)"
   ]
  },
  {
   "cell_type": "code",
   "execution_count": 3,
   "id": "db954425",
   "metadata": {
    "scrolled": false
   },
   "outputs": [
    {
     "name": "stderr",
     "output_type": "stream",
     "text": [
      "/var/folders/z1/yvqnclv90j92_k2wmvyt59400000gn/T/ipykernel_34510/4161241626.py:23: UserWarning: Matplotlib is currently using agg, which is a non-GUI backend, so cannot show the figure.\n",
      "  plt.show()\n"
     ]
    }
   ],
   "source": [
    "plt.figure(figsize=(15, 3))\n",
    "\n",
    "for i, category in enumerate(categories, start=1):\n",
    "    category_path = os.path.join(data_dir, category)\n",
    "    if not os.path.isdir(category_path):\n",
    "        continue\n",
    "    \n",
    "    image_files = [file for file in os.listdir(category_path) if os.path.isfile(os.path.join(category_path, file)) and not file.startswith('.DS_Store')]\n",
    "    if image_files:\n",
    "        random_image = random.choice(image_files)\n",
    "        image_path = os.path.join(category_path, random_image)\n",
    "        \n",
    "        try:\n",
    "            img = mpimg.imread(image_path)\n",
    "            plt.subplot(1, len(categories), i)\n",
    "            plt.imshow(img)\n",
    "            plt.title(category)\n",
    "            plt.axis('off')\n",
    "        except Exception as e:\n",
    "            print(f\"Could not load image {image_path}. Error: {e}\")\n",
    "\n",
    "plt.tight_layout()\n",
    "plt.show()"
   ]
  },
  {
   "cell_type": "code",
   "execution_count": 4,
   "id": "242d833a",
   "metadata": {},
   "outputs": [],
   "source": [
    "# Splitting data into train, val, and test\n",
    "categories = [category for category in categories if os.path.isdir(os.path.join(data_dir, category))]\n",
    "train_files, val_files, test_files = [], [], []"
   ]
  },
  {
   "cell_type": "code",
   "execution_count": 5,
   "id": "2d2a67c5",
   "metadata": {},
   "outputs": [],
   "source": [
    "for category in categories:\n",
    "    category_path = os.path.join(data_dir, category)\n",
    "    if not os.path.isdir(category_path):\n",
    "        continue\n",
    "    image_files = [file for file in os.listdir(category_path) if os.path.isfile(os.path.join(category_path, file)) and not file.startswith('.DS_Store')]\n",
    "    if image_files:\n",
    "        train, test_val = train_test_split(image_files, test_size=0.4, random_state=42)\n",
    "        val, test = train_test_split(test_val, test_size=0.5, random_state=42)\n",
    "        train_files.extend([(file, category) for file in train])\n",
    "        val_files.extend([(file, category) for file in val])\n",
    "        test_files.extend([(file, category) for file in test])"
   ]
  },
  {
   "cell_type": "code",
   "execution_count": 6,
   "id": "b512efba",
   "metadata": {},
   "outputs": [
    {
     "name": "stdout",
     "output_type": "stream",
     "text": [
      "Number of training files: 0\n",
      "Number of validation files: 0\n",
      "Number of test files: 0\n"
     ]
    }
   ],
   "source": [
    "print(f\"Number of training files: {len(train_files)}\")\n",
    "print(f\"Number of validation files: {len(val_files)}\")\n",
    "print(f\"Number of test files: {len(test_files)}\")"
   ]
  },
  {
   "cell_type": "code",
   "execution_count": 7,
   "id": "91949383",
   "metadata": {},
   "outputs": [],
   "source": [
    "# Create directories for train, val, and test\n",
    "split_dirs = {'train': train_files, 'val': val_files, 'test': test_files}\n",
    "\n",
    "for split, files in split_dirs.items():\n",
    "    split_dir = os.path.join(data_dir, split)\n",
    "    if not os.path.exists(split_dir):\n",
    "        os.makedirs(split_dir)\n",
    "    for category in categories:\n",
    "        category_split_dir = os.path.join(split_dir, category)\n",
    "        if not os.path.exists(category_split_dir):\n",
    "            os.makedirs(category_split_dir)\n",
    "    for file, category in files:\n",
    "        src_path = os.path.join(data_dir, category, file)\n",
    "        dst_path = os.path.join(data_dir, split, category, file)\n",
    "        shutil.move(src_path, dst_path)"
   ]
  },
  {
   "cell_type": "code",
   "execution_count": 8,
   "id": "7865aed8",
   "metadata": {},
   "outputs": [],
   "source": [
    "from tensorflow.keras.preprocessing.image import ImageDataGenerator\n",
    "\n",
    "# Data directories\n",
    "train_dir = os.path.join(data_dir, 'train')\n",
    "val_dir = os.path.join(data_dir, 'val')\n",
    "test_dir = os.path.join(data_dir, 'test')"
   ]
  },
  {
   "cell_type": "code",
   "execution_count": 9,
   "id": "5eea462a",
   "metadata": {},
   "outputs": [],
   "source": [
    "batch_size = 32\n",
    "image_size = (224, 224)"
   ]
  },
  {
   "cell_type": "code",
   "execution_count": 10,
   "id": "c9229c37",
   "metadata": {},
   "outputs": [],
   "source": [
    "# Data generators\n",
    "train_datagen = ImageDataGenerator(rescale=0.2)\n",
    "val_test_datagen = ImageDataGenerator(rescale=0.2)"
   ]
  },
  {
   "cell_type": "code",
   "execution_count": 11,
   "id": "4155398c",
   "metadata": {},
   "outputs": [
    {
     "name": "stdout",
     "output_type": "stream",
     "text": [
      "Found 2608 images belonging to 9 classes.\n",
      "Found 869 images belonging to 9 classes.\n",
      "Found 872 images belonging to 9 classes.\n"
     ]
    }
   ],
   "source": [
    "# Flow data from directories\n",
    "train_data = train_datagen.flow_from_directory(train_dir, target_size=image_size, batch_size=batch_size, class_mode='categorical')\n",
    "val_data = val_test_datagen.flow_from_directory(val_dir, target_size=image_size, batch_size=batch_size, class_mode='categorical')\n",
    "test_data = val_test_datagen.flow_from_directory(test_dir, target_size=image_size, batch_size=batch_size, class_mode='categorical')"
   ]
  },
  {
   "cell_type": "code",
   "execution_count": 12,
   "id": "b2824a8d",
   "metadata": {},
   "outputs": [
    {
     "name": "stdout",
     "output_type": "stream",
     "text": [
      "Number of classes: 9\n"
     ]
    }
   ],
   "source": [
    "num_classes = train_data.num_classes\n",
    "print(\"Number of classes:\", num_classes)"
   ]
  },
  {
   "cell_type": "code",
   "execution_count": 13,
   "id": "77872127",
   "metadata": {},
   "outputs": [],
   "source": [
    "def build_model(hp):\n",
    "    base_model = VGG16(weights='imagenet', include_top=False, input_shape=(224, 224, 3))\n",
    "    x = base_model.output\n",
    "    x = Flatten()(x)\n",
    "    x = Dense(units=hp.Int('units', min_value=512, max_value=1024, step=128), activation='relu')(x)\n",
    "    x = Dropout(hp.Float('dropout', min_value=0.2, max_value=0.5, step=0.1))(x)\n",
    "    predictions = Dense(num_classes, activation='softmax')(x)\n",
    "    \n",
    "    model = Model(inputs=base_model.input, outputs=predictions)\n",
    "    for layer in base_model.layers:\n",
    "        layer.trainable = False\n",
    "\n",
    "    model.compile(\n",
    "        optimizer=Adam(hp.Choice('learning_rate', values=[1e-2, 1e-3, 1e-4])),\n",
    "        loss='categorical_crossentropy',\n",
    "        metrics=['accuracy']\n",
    "    )\n",
    "    return model\n"
   ]
  },
  {
   "cell_type": "code",
   "execution_count": 14,
   "id": "fcaa9e0a",
   "metadata": {},
   "outputs": [
    {
     "name": "stdout",
     "output_type": "stream",
     "text": [
      "Reloading Tuner from my_dir/face_expression_tuning/tuner0.json\n"
     ]
    }
   ],
   "source": [
    "tuner = kt.RandomSearch(\n",
    "    build_model,\n",
    "    objective='val_accuracy',  \n",
    "    max_trials=10,\n",
    "    directory='my_dir',\n",
    "    project_name='face_expression_tuning'\n",
    ")\n"
   ]
  },
  {
   "cell_type": "code",
   "execution_count": 15,
   "id": "9fedab62",
   "metadata": {
    "scrolled": false
   },
   "outputs": [
    {
     "name": "stdout",
     "output_type": "stream",
     "text": [
      "Trial 10 Complete [00h 29m 34s]\n",
      "val_accuracy: 0.6329113841056824\n",
      "\n",
      "Best val_accuracy So Far: 0.6985040307044983\n",
      "Total elapsed time: 05h 07m 33s\n"
     ]
    },
    {
     "name": "stderr",
     "output_type": "stream",
     "text": [
      "/Users/prabinawal/anaconda3/lib/python3.10/site-packages/keras/src/saving/saving_lib.py:415: UserWarning: Skipping variable loading for optimizer 'adam', because it has 2 variables whereas the saved optimizer has 10 variables. \n",
      "  saveable.load_own_variables(weights_store.get(inner_path))\n"
     ]
    }
   ],
   "source": [
    "tuner.search(train_data, epochs=2, validation_data=val_data)\n",
    "best_model = tuner.get_best_models(num_models=1)[0]"
   ]
  },
  {
   "cell_type": "code",
   "execution_count": 26,
   "id": "4c83aac7",
   "metadata": {},
   "outputs": [
    {
     "name": "stderr",
     "output_type": "stream",
     "text": [
      "WARNING:absl:You are saving your model as an HDF5 file via `model.save()` or `keras.saving.save_model(model)`. This file format is considered legacy. We recommend using instead the native Keras format, e.g. `model.save('my_model.keras')` or `keras.saving.save_model(model, 'my_model.keras')`. \n"
     ]
    }
   ],
   "source": [
    "best_model.save('/Users/prabinawal/streamlit_app/best_model.h5')"
   ]
  },
  {
   "cell_type": "code",
   "execution_count": 27,
   "id": "725f1085",
   "metadata": {},
   "outputs": [
    {
     "name": "stderr",
     "output_type": "stream",
     "text": [
      "WARNING:absl:Compiled the loaded model, but the compiled metrics have yet to be built. `model.compile_metrics` will be empty until you train or evaluate the model.\n"
     ]
    }
   ],
   "source": [
    "model = tf.keras.models.load_model('/Users/prabinawal/flask_app/best_model.h5')"
   ]
  },
  {
   "cell_type": "code",
   "execution_count": null,
   "id": "f3d9d9d8",
   "metadata": {},
   "outputs": [],
   "source": []
  }
 ],
 "metadata": {
  "kernelspec": {
   "display_name": "Python 3 (ipykernel)",
   "language": "python",
   "name": "python3"
  },
  "language_info": {
   "codemirror_mode": {
    "name": "ipython",
    "version": 3
   },
   "file_extension": ".py",
   "mimetype": "text/x-python",
   "name": "python",
   "nbconvert_exporter": "python",
   "pygments_lexer": "ipython3",
   "version": "3.10.9"
  }
 },
 "nbformat": 4,
 "nbformat_minor": 5
}
